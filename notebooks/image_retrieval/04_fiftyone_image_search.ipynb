{
 "cells": [
  {
   "cell_type": "markdown",
   "id": "3418b46b-cbf8-4b24-bf30-7c27f6ebaeb2",
   "metadata": {},
   "source": [
    "### Notebook description:\n",
    "\n",
    "This notebooks should: \n",
    "1. \n",
    "\n",
    "I took details about how to search images with fiftyone from here:\n",
    "- https://voxel51.com/docs/fiftyone/user_guide/brain.html\n",
    "- https://voxel51.com/docs/fiftyone/user_guide/brain.html#brain-similarity"
   ]
  },
  {
   "cell_type": "code",
   "execution_count": 2,
   "id": "8e8f62dd-f8af-458c-8e8e-f3ba66d38d56",
   "metadata": {
    "collapsed": true,
    "jupyter": {
     "outputs_hidden": true
    },
    "tags": []
   },
   "outputs": [
    {
     "name": "stdout",
     "output_type": "stream",
     "text": [
      "Requirement already satisfied: fiftyone==0.18.0 in /opt/conda/lib/python3.8/site-packages (0.18.0)\n",
      "Requirement already satisfied: psutil in /opt/conda/lib/python3.8/site-packages (from fiftyone==0.18.0) (5.8.0)\n",
      "Requirement already satisfied: tabulate in /opt/conda/lib/python3.8/site-packages (from fiftyone==0.18.0) (0.9.0)\n",
      "Requirement already satisfied: sse-starlette<1,>=0.10.3 in /opt/conda/lib/python3.8/site-packages (from fiftyone==0.18.0) (0.10.3)\n",
      "Requirement already satisfied: setuptools in /opt/conda/lib/python3.8/site-packages (from fiftyone==0.18.0) (58.0.4)\n",
      "Requirement already satisfied: xmltodict in /opt/conda/lib/python3.8/site-packages (from fiftyone==0.18.0) (0.13.0)\n",
      "Requirement already satisfied: PyYAML in /opt/conda/lib/python3.8/site-packages (from fiftyone==0.18.0) (6.0)\n",
      "Requirement already satisfied: scikit-image in /opt/conda/lib/python3.8/site-packages (from fiftyone==0.18.0) (0.19.3)\n",
      "Requirement already satisfied: voxel51-eta<0.9,>=0.8.1 in /opt/conda/lib/python3.8/site-packages (from fiftyone==0.18.0) (0.8.1)\n",
      "Requirement already satisfied: Deprecated in /opt/conda/lib/python3.8/site-packages (from fiftyone==0.18.0) (1.2.13)\n",
      "Requirement already satisfied: pandas in /opt/conda/lib/python3.8/site-packages (from fiftyone==0.18.0) (1.4.2)\n",
      "Requirement already satisfied: starlette==0.20.4 in /opt/conda/lib/python3.8/site-packages (from fiftyone==0.18.0) (0.20.4)\n",
      "Requirement already satisfied: packaging in /opt/conda/lib/python3.8/site-packages (from fiftyone==0.18.0) (22.0)\n",
      "Requirement already satisfied: scikit-learn in /opt/conda/lib/python3.8/site-packages (from fiftyone==0.18.0) (1.2.0)\n",
      "Requirement already satisfied: boto3 in /opt/conda/lib/python3.8/site-packages (from fiftyone==0.18.0) (1.26.32)\n",
      "Requirement already satisfied: pymongo>=3.11 in /opt/conda/lib/python3.8/site-packages (from fiftyone==0.18.0) (4.3.3)\n",
      "Requirement already satisfied: matplotlib in /opt/conda/lib/python3.8/site-packages (from fiftyone==0.18.0) (3.5.2)\n",
      "Requirement already satisfied: universal-analytics-python3<2,>=1.0.1 in /opt/conda/lib/python3.8/site-packages (from fiftyone==0.18.0) (1.1.1)\n",
      "Requirement already satisfied: pytz in /opt/conda/lib/python3.8/site-packages (from fiftyone==0.18.0) (2021.3)\n",
      "Requirement already satisfied: Pillow>=6.2 in /opt/conda/lib/python3.8/site-packages (from fiftyone==0.18.0) (9.0.1)\n",
      "Requirement already satisfied: retrying in /opt/conda/lib/python3.8/site-packages (from fiftyone==0.18.0) (1.3.4)\n",
      "Requirement already satisfied: plotly>=4.14 in /opt/conda/lib/python3.8/site-packages (from fiftyone==0.18.0) (5.8.0)\n",
      "Requirement already satisfied: numpy in /opt/conda/lib/python3.8/site-packages (from fiftyone==0.18.0) (1.22.4)\n",
      "Requirement already satisfied: fiftyone-db<0.5,>=0.4 in /opt/conda/lib/python3.8/site-packages (from fiftyone==0.18.0) (0.4.0)\n",
      "Requirement already satisfied: eventlet in /opt/conda/lib/python3.8/site-packages (from fiftyone==0.18.0) (0.33.2)\n",
      "Requirement already satisfied: argcomplete in /opt/conda/lib/python3.8/site-packages (from fiftyone==0.18.0) (2.0.0)\n",
      "Requirement already satisfied: future in /opt/conda/lib/python3.8/site-packages (from fiftyone==0.18.0) (0.18.2)\n",
      "Requirement already satisfied: kaleido in /opt/conda/lib/python3.8/site-packages (from fiftyone==0.18.0) (0.2.1)\n",
      "Requirement already satisfied: Jinja2>=3 in /opt/conda/lib/python3.8/site-packages (from fiftyone==0.18.0) (3.1.2)\n",
      "Requirement already satisfied: aiofiles in /opt/conda/lib/python3.8/site-packages (from fiftyone==0.18.0) (22.1.0)\n",
      "Requirement already satisfied: mongoengine==0.24.2 in /opt/conda/lib/python3.8/site-packages (from fiftyone==0.18.0) (0.24.2)\n",
      "Requirement already satisfied: opencv-python-headless in /opt/conda/lib/python3.8/site-packages (from fiftyone==0.18.0) (4.6.0.66)\n",
      "Requirement already satisfied: pprintpp in /opt/conda/lib/python3.8/site-packages (from fiftyone==0.18.0) (0.4.0)\n",
      "Requirement already satisfied: ndjson in /opt/conda/lib/python3.8/site-packages (from fiftyone==0.18.0) (0.3.1)\n",
      "Requirement already satisfied: dacite>=1.6.0 in /opt/conda/lib/python3.8/site-packages (from fiftyone==0.18.0) (1.6.0)\n",
      "Requirement already satisfied: motor>=2.3 in /opt/conda/lib/python3.8/site-packages (from fiftyone==0.18.0) (3.1.1)\n",
      "Requirement already satisfied: hypercorn>=0.13.2 in /opt/conda/lib/python3.8/site-packages (from fiftyone==0.18.0) (0.14.3)\n",
      "Requirement already satisfied: fiftyone-brain<0.10,>=0.9.2 in /opt/conda/lib/python3.8/site-packages (from fiftyone==0.18.0) (0.9.2)\n",
      "Requirement already satisfied: sseclient-py<2,>=1.7.2 in /opt/conda/lib/python3.8/site-packages (from fiftyone==0.18.0) (1.7.2)\n",
      "Requirement already satisfied: strawberry-graphql==0.138.1 in /opt/conda/lib/python3.8/site-packages (from fiftyone==0.18.0) (0.138.1)\n",
      "Requirement already satisfied: typing-extensions>=3.10.0 in /opt/conda/lib/python3.8/site-packages (from starlette==0.20.4->fiftyone==0.18.0) (3.10.0.2)\n",
      "Requirement already satisfied: anyio<5,>=3.4.0 in /opt/conda/lib/python3.8/site-packages (from starlette==0.20.4->fiftyone==0.18.0) (3.6.2)\n",
      "Requirement already satisfied: python-dateutil<3.0.0,>=2.7.0 in /opt/conda/lib/python3.8/site-packages (from strawberry-graphql==0.138.1->fiftyone==0.18.0) (2.8.2)\n",
      "Requirement already satisfied: graphql-core<3.3.0,>=3.2.0 in /opt/conda/lib/python3.8/site-packages (from strawberry-graphql==0.138.1->fiftyone==0.18.0) (3.2.3)\n",
      "Requirement already satisfied: idna>=2.8 in /opt/conda/lib/python3.8/site-packages (from anyio<5,>=3.4.0->starlette==0.20.4->fiftyone==0.18.0) (3.3)\n",
      "Requirement already satisfied: sniffio>=1.1 in /opt/conda/lib/python3.8/site-packages (from anyio<5,>=3.4.0->starlette==0.20.4->fiftyone==0.18.0) (1.3.0)\n",
      "Requirement already satisfied: scipy>=1.2.0 in /opt/conda/lib/python3.8/site-packages (from fiftyone-brain<0.10,>=0.9.2->fiftyone==0.18.0) (1.7.1)\n",
      "Requirement already satisfied: priority in /opt/conda/lib/python3.8/site-packages (from hypercorn>=0.13.2->fiftyone==0.18.0) (2.0.0)\n",
      "Requirement already satisfied: toml in /opt/conda/lib/python3.8/site-packages (from hypercorn>=0.13.2->fiftyone==0.18.0) (0.10.2)\n",
      "Requirement already satisfied: wsproto>=0.14.0 in /opt/conda/lib/python3.8/site-packages (from hypercorn>=0.13.2->fiftyone==0.18.0) (1.2.0)\n",
      "Requirement already satisfied: h11 in /opt/conda/lib/python3.8/site-packages (from hypercorn>=0.13.2->fiftyone==0.18.0) (0.14.0)\n",
      "Requirement already satisfied: h2>=3.1.0 in /opt/conda/lib/python3.8/site-packages (from hypercorn>=0.13.2->fiftyone==0.18.0) (4.1.0)\n",
      "Requirement already satisfied: hyperframe<7,>=6.0 in /opt/conda/lib/python3.8/site-packages (from h2>=3.1.0->hypercorn>=0.13.2->fiftyone==0.18.0) (6.0.1)\n",
      "Requirement already satisfied: hpack<5,>=4.0 in /opt/conda/lib/python3.8/site-packages (from h2>=3.1.0->hypercorn>=0.13.2->fiftyone==0.18.0) (4.0.0)\n",
      "Requirement already satisfied: MarkupSafe>=2.0 in /opt/conda/lib/python3.8/site-packages (from Jinja2>=3->fiftyone==0.18.0) (2.0.1)\n",
      "Requirement already satisfied: tenacity>=6.2.0 in /opt/conda/lib/python3.8/site-packages (from plotly>=4.14->fiftyone==0.18.0) (8.1.0)\n",
      "Requirement already satisfied: dnspython<3.0.0,>=1.16.0 in /opt/conda/lib/python3.8/site-packages (from pymongo>=3.11->fiftyone==0.18.0) (2.2.1)\n",
      "Requirement already satisfied: six>=1.5 in /opt/conda/lib/python3.8/site-packages (from python-dateutil<3.0.0,>=2.7.0->strawberry-graphql==0.138.1->fiftyone==0.18.0) (1.16.0)\n",
      "Requirement already satisfied: httpx>=0.10.0 in /opt/conda/lib/python3.8/site-packages (from universal-analytics-python3<2,>=1.0.1->fiftyone==0.18.0) (0.23.1)\n",
      "Requirement already satisfied: certifi in /opt/conda/lib/python3.8/site-packages (from httpx>=0.10.0->universal-analytics-python3<2,>=1.0.1->fiftyone==0.18.0) (2021.10.8)\n",
      "Requirement already satisfied: httpcore<0.17.0,>=0.15.0 in /opt/conda/lib/python3.8/site-packages (from httpx>=0.10.0->universal-analytics-python3<2,>=1.0.1->fiftyone==0.18.0) (0.16.2)\n",
      "Requirement already satisfied: rfc3986[idna2008]<2,>=1.3 in /opt/conda/lib/python3.8/site-packages (from httpx>=0.10.0->universal-analytics-python3<2,>=1.0.1->fiftyone==0.18.0) (1.5.0)\n",
      "Requirement already satisfied: sortedcontainers in /opt/conda/lib/python3.8/site-packages (from voxel51-eta<0.9,>=0.8.1->fiftyone==0.18.0) (2.4.0)\n",
      "Requirement already satisfied: glob2 in /opt/conda/lib/python3.8/site-packages (from voxel51-eta<0.9,>=0.8.1->fiftyone==0.18.0) (0.7)\n",
      "Requirement already satisfied: requests in /opt/conda/lib/python3.8/site-packages (from voxel51-eta<0.9,>=0.8.1->fiftyone==0.18.0) (2.28.1)\n",
      "Requirement already satisfied: dill in /opt/conda/lib/python3.8/site-packages (from voxel51-eta<0.9,>=0.8.1->fiftyone==0.18.0) (0.3.6)\n",
      "Requirement already satisfied: patool in /opt/conda/lib/python3.8/site-packages (from voxel51-eta<0.9,>=0.8.1->fiftyone==0.18.0) (1.12)\n",
      "Requirement already satisfied: tzlocal in /opt/conda/lib/python3.8/site-packages (from voxel51-eta<0.9,>=0.8.1->fiftyone==0.18.0) (4.2)\n",
      "Requirement already satisfied: urllib3 in /opt/conda/lib/python3.8/site-packages (from voxel51-eta<0.9,>=0.8.1->fiftyone==0.18.0) (1.26.13)\n",
      "Requirement already satisfied: jmespath<2.0.0,>=0.7.1 in /opt/conda/lib/python3.8/site-packages (from boto3->fiftyone==0.18.0) (1.0.1)\n",
      "Requirement already satisfied: s3transfer<0.7.0,>=0.6.0 in /opt/conda/lib/python3.8/site-packages (from boto3->fiftyone==0.18.0) (0.6.0)\n",
      "Requirement already satisfied: botocore<1.30.0,>=1.29.32 in /opt/conda/lib/python3.8/site-packages (from boto3->fiftyone==0.18.0) (1.29.32)\n",
      "Requirement already satisfied: wrapt<2,>=1.10 in /opt/conda/lib/python3.8/site-packages (from Deprecated->fiftyone==0.18.0) (1.14.1)\n",
      "Requirement already satisfied: greenlet>=0.3 in /opt/conda/lib/python3.8/site-packages (from eventlet->fiftyone==0.18.0) (2.0.1)\n",
      "Requirement already satisfied: kiwisolver>=1.0.1 in /opt/conda/lib/python3.8/site-packages (from matplotlib->fiftyone==0.18.0) (1.4.4)\n",
      "Requirement already satisfied: cycler>=0.10 in /opt/conda/lib/python3.8/site-packages (from matplotlib->fiftyone==0.18.0) (0.11.0)\n",
      "Requirement already satisfied: fonttools>=4.22.0 in /opt/conda/lib/python3.8/site-packages (from matplotlib->fiftyone==0.18.0) (4.38.0)\n",
      "Requirement already satisfied: pyparsing>=2.2.1 in /opt/conda/lib/python3.8/site-packages (from matplotlib->fiftyone==0.18.0) (3.0.9)\n",
      "Requirement already satisfied: charset-normalizer<3,>=2 in /opt/conda/lib/python3.8/site-packages (from requests->voxel51-eta<0.9,>=0.8.1->fiftyone==0.18.0) (2.0.4)\n",
      "Requirement already satisfied: PyWavelets>=1.1.1 in /opt/conda/lib/python3.8/site-packages (from scikit-image->fiftyone==0.18.0) (1.4.1)\n",
      "Requirement already satisfied: networkx>=2.2 in /opt/conda/lib/python3.8/site-packages (from scikit-image->fiftyone==0.18.0) (2.8.8)\n",
      "Requirement already satisfied: imageio>=2.4.1 in /opt/conda/lib/python3.8/site-packages (from scikit-image->fiftyone==0.18.0) (2.9.0)\n",
      "Requirement already satisfied: tifffile>=2019.7.26 in /opt/conda/lib/python3.8/site-packages (from scikit-image->fiftyone==0.18.0) (2022.5.4)\n",
      "Requirement already satisfied: joblib>=1.1.1 in /opt/conda/lib/python3.8/site-packages (from scikit-learn->fiftyone==0.18.0) (1.2.0)\n",
      "Requirement already satisfied: threadpoolctl>=2.0.0 in /opt/conda/lib/python3.8/site-packages (from scikit-learn->fiftyone==0.18.0) (3.1.0)\n",
      "Requirement already satisfied: pytz-deprecation-shim in /opt/conda/lib/python3.8/site-packages (from tzlocal->voxel51-eta<0.9,>=0.8.1->fiftyone==0.18.0) (0.1.0.post0)\n",
      "Requirement already satisfied: backports.zoneinfo in /opt/conda/lib/python3.8/site-packages (from tzlocal->voxel51-eta<0.9,>=0.8.1->fiftyone==0.18.0) (0.2.1)\n",
      "Requirement already satisfied: tzdata in /opt/conda/lib/python3.8/site-packages (from pytz-deprecation-shim->tzlocal->voxel51-eta<0.9,>=0.8.1->fiftyone==0.18.0) (2022.7)\n",
      "\u001b[33mWARNING: Running pip as the 'root' user can result in broken permissions and conflicting behaviour with the system package manager. It is recommended to use a virtual environment instead: https://pip.pypa.io/warnings/venv\u001b[0m\n"
     ]
    }
   ],
   "source": [
    "!pip install fiftyone==0.18.0 -q"
   ]
  },
  {
   "cell_type": "code",
   "execution_count": 8,
   "id": "43bcf191-b98f-4f15-a81d-218592572e06",
   "metadata": {},
   "outputs": [],
   "source": [
    "import fiftyone as fo\n",
    "import fiftyone.brain as fob\n",
    "import fiftyone.zoo as foz\n",
    "\n",
    "from pathlib import Path\n",
    "Path.ls = lambda x: list(x.iterdir())\n",
    "\n",
    "import torch\n",
    "import pandas as pd\n",
    "import numpy as np\n",
    "import matplotlib.pyplot as plt\n",
    "from PIL import Image"
   ]
  },
  {
   "cell_type": "code",
   "execution_count": 9,
   "id": "2360bb97-a5de-4104-be7a-9acc7b5eee64",
   "metadata": {},
   "outputs": [],
   "source": [
    "DATA_DIR = Path('data')\n",
    "embs_path = DATA_DIR / 'cluster_medoids.pickle'\n",
    "DIR_IMGS = DATA_DIR / 'drone_imgs'\n",
    "assert embs_path.exists()"
   ]
  },
  {
   "cell_type": "code",
   "execution_count": 10,
   "id": "2e2b2389-98d0-4f34-90d1-20e3e8f3ac07",
   "metadata": {},
   "outputs": [
    {
     "data": {
      "text/html": [
       "<div>\n",
       "<style scoped>\n",
       "    .dataframe tbody tr th:only-of-type {\n",
       "        vertical-align: middle;\n",
       "    }\n",
       "\n",
       "    .dataframe tbody tr th {\n",
       "        vertical-align: top;\n",
       "    }\n",
       "\n",
       "    .dataframe thead th {\n",
       "        text-align: right;\n",
       "    }\n",
       "</style>\n",
       "<table border=\"1\" class=\"dataframe\">\n",
       "  <thead>\n",
       "    <tr style=\"text-align: right;\">\n",
       "      <th></th>\n",
       "      <th>filename</th>\n",
       "      <th>emb</th>\n",
       "      <th>cluster_id</th>\n",
       "    </tr>\n",
       "  </thead>\n",
       "  <tbody>\n",
       "    <tr>\n",
       "      <th>0</th>\n",
       "      <td>f27e2790-8a3b-4ae8-bd79-2cdba2a9942e.png</td>\n",
       "      <td>[[0.6997, -1.053, 0.5635, -0.1405, -0.6045, -0...</td>\n",
       "      <td>-1</td>\n",
       "    </tr>\n",
       "  </tbody>\n",
       "</table>\n",
       "</div>"
      ],
      "text/plain": [
       "                                   filename  \\\n",
       "0  f27e2790-8a3b-4ae8-bd79-2cdba2a9942e.png   \n",
       "\n",
       "                                                 emb  cluster_id  \n",
       "0  [[0.6997, -1.053, 0.5635, -0.1405, -0.6045, -0...          -1  "
      ]
     },
     "execution_count": 10,
     "metadata": {},
     "output_type": "execute_result"
    }
   ],
   "source": [
    "embs_df = pd.read_pickle(embs_path)\n",
    "embs_df.head(1)"
   ]
  },
  {
   "cell_type": "code",
   "execution_count": 11,
   "id": "9737768e-f5af-452a-9bc4-250d52a0ec41",
   "metadata": {},
   "outputs": [],
   "source": [
    "filenames = embs_df.filename.values\n",
    "embs = np.array([i[0] for i in embs_df.emb.values]).astype(np.float32)"
   ]
  },
  {
   "cell_type": "code",
   "execution_count": 16,
   "id": "29047ccc-4a13-4f1f-8be8-3b814d0aa836",
   "metadata": {},
   "outputs": [],
   "source": [
    "dataset = fo.Dataset()\n",
    "for image_path, embedding in zip(filenames, embs):\n",
    "    dataset.add_sample(fo.Sample(filepath=str(DIR_IMGS / image_path)))"
   ]
  },
  {
   "cell_type": "code",
   "execution_count": 20,
   "id": "608f5786-4777-4560-a182-3fd372e166b8",
   "metadata": {},
   "outputs": [
    {
     "data": {
      "text/html": [
       "\n",
       "        <iframe\n",
       "            width=\"100%\"\n",
       "            height=\"800\"\n",
       "            src=\"http://localhost:3334/?context=ipython&subscription=a60d70c7-19e1-41cf-981a-fd6785208b2a\"\n",
       "            frameborder=\"0\"\n",
       "            allowfullscreen\n",
       "            \n",
       "        ></iframe>\n",
       "        "
      ],
      "text/plain": [
       "<IPython.lib.display.IFrame at 0x7f8ad0717850>"
      ]
     },
     "metadata": {},
     "output_type": "display_data"
    }
   ],
   "source": [
    "# Load dataset\n",
    "# dataset = foz.load_zoo_dataset(\"quickstart\")\n",
    "\n",
    "# Index images by similarity\n",
    "fob.compute_similarity(dataset, embeddings=embs, brain_key=\"image_sim\")\n",
    "\n",
    "# Launch App\n",
    "# To open fiftyone page, you should expose 3334 port in your VSCode and go to http://localhost:3334/?context=ipython&subscription=<your_subscription>\n",
    "session = fo.launch_app(dataset, address='localhost', port=3334)"
   ]
  },
  {
   "cell_type": "code",
   "execution_count": null,
   "id": "6ecf69d8-b544-4b6a-afbd-d5b47d1dffbc",
   "metadata": {},
   "outputs": [],
   "source": []
  }
 ],
 "metadata": {
  "kernelspec": {
   "display_name": "Python 3 (ipykernel)",
   "language": "python",
   "name": "python3"
  },
  "language_info": {
   "codemirror_mode": {
    "name": "ipython",
    "version": 3
   },
   "file_extension": ".py",
   "mimetype": "text/x-python",
   "name": "python",
   "nbconvert_exporter": "python",
   "pygments_lexer": "ipython3",
   "version": "3.8.12"
  }
 },
 "nbformat": 4,
 "nbformat_minor": 5
}
