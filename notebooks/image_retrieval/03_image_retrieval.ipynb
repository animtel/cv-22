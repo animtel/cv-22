{
 "cells": [
  {
   "cell_type": "code",
   "execution_count": 2,
   "id": "22c570da-eebb-4011-9139-889797c8b710",
   "metadata": {},
   "outputs": [
    {
     "name": "stdout",
     "output_type": "stream",
     "text": [
      "Collecting faiss-gpu==1.7.2\n",
      "  Downloading faiss_gpu-1.7.2-cp38-cp38-manylinux_2_17_x86_64.manylinux2014_x86_64.whl (85.5 MB)\n",
      "\u001b[K     |████████████████████████████████| 85.5 MB 75.1 MB/s eta 0:00:01\n",
      "\u001b[?25hInstalling collected packages: faiss-gpu\n",
      "Successfully installed faiss-gpu-1.7.2\n",
      "\u001b[33mWARNING: Running pip as the 'root' user can result in broken permissions and conflicting behaviour with the system package manager. It is recommended to use a virtual environment instead: https://pip.pypa.io/warnings/venv\u001b[0m\n"
     ]
    }
   ],
   "source": [
    "!pip install faiss-gpu==1.7.2"
   ]
  },
  {
   "cell_type": "code",
   "execution_count": 27,
   "id": "d9bb9797-b35d-4ba4-8c7c-6e31cd618eed",
   "metadata": {},
   "outputs": [],
   "source": [
    "import faiss\n",
    "from pathlib import Path\n",
    "Path.ls = lambda x: list(x.iterdir())\n",
    "\n",
    "import torch\n",
    "import pandas as pd\n",
    "import numpy as np"
   ]
  },
  {
   "cell_type": "code",
   "execution_count": 10,
   "id": "2c1f6af1-73d7-439c-a73c-00bd57a12e0f",
   "metadata": {},
   "outputs": [],
   "source": [
    "DATA_DIR = Path('data')\n",
    "embs_path = DATA_DIR / 'cluster_medoids.pickle'\n",
    "DIR_IMGS = DATA_DIR / 'drone_imgs'\n",
    "assert embs_path.exists()"
   ]
  },
  {
   "cell_type": "code",
   "execution_count": 28,
   "id": "bbc6ceb4-35fb-42a1-b9b0-c795cd83fc98",
   "metadata": {},
   "outputs": [
    {
     "data": {
      "text/html": [
       "<div>\n",
       "<style scoped>\n",
       "    .dataframe tbody tr th:only-of-type {\n",
       "        vertical-align: middle;\n",
       "    }\n",
       "\n",
       "    .dataframe tbody tr th {\n",
       "        vertical-align: top;\n",
       "    }\n",
       "\n",
       "    .dataframe thead th {\n",
       "        text-align: right;\n",
       "    }\n",
       "</style>\n",
       "<table border=\"1\" class=\"dataframe\">\n",
       "  <thead>\n",
       "    <tr style=\"text-align: right;\">\n",
       "      <th></th>\n",
       "      <th>filename</th>\n",
       "      <th>emb</th>\n",
       "      <th>cluster_id</th>\n",
       "    </tr>\n",
       "  </thead>\n",
       "  <tbody>\n",
       "    <tr>\n",
       "      <th>0</th>\n",
       "      <td>f27e2790-8a3b-4ae8-bd79-2cdba2a9942e.png</td>\n",
       "      <td>[[0.6997, -1.053, 0.5635, -0.1405, -0.6045, -0...</td>\n",
       "      <td>-1</td>\n",
       "    </tr>\n",
       "  </tbody>\n",
       "</table>\n",
       "</div>"
      ],
      "text/plain": [
       "                                   filename  \\\n",
       "0  f27e2790-8a3b-4ae8-bd79-2cdba2a9942e.png   \n",
       "\n",
       "                                                 emb  cluster_id  \n",
       "0  [[0.6997, -1.053, 0.5635, -0.1405, -0.6045, -0...          -1  "
      ]
     },
     "execution_count": 28,
     "metadata": {},
     "output_type": "execute_result"
    }
   ],
   "source": [
    "embs_df = pd.read_pickle(embs_path)\n",
    "embs_df.head(1)"
   ]
  },
  {
   "cell_type": "code",
   "execution_count": 48,
   "id": "259ee114-22fd-4071-8eb1-f5a6df01c502",
   "metadata": {},
   "outputs": [],
   "source": [
    "filenames = embs_df.filename.values\n",
    "embs = np.array([i[0] for i in embs_df.emb.values]).astype(np.float32)"
   ]
  },
  {
   "cell_type": "code",
   "execution_count": 50,
   "id": "0b2e9cf2-8275-4458-a832-8f8b7157c62f",
   "metadata": {},
   "outputs": [],
   "source": [
    "class FaissIndexer:\n",
    "    def __init__(\n",
    "        self,\n",
    "        img_dir: Path,\n",
    "        img_filenames,\n",
    "        embs: torch.Tensor\n",
    "    ):\n",
    "        \"\"\"\n",
    "        img_dir: Path\n",
    "        img_filenames: List[Path]\n",
    "        embs: N, D; N - len, D - emb dimenstion\n",
    "        \"\"\"\n",
    "        self.reference_dir = Path(img_dir)\n",
    "        assert self.reference_dir.exists(\n",
    "        ), f\"Directory with reference images does not exists! {self.reference_dir}\"\n",
    "\n",
    "        self.filenames, self.embs = img_filenames, embs\n",
    "\n",
    "        self.filenames = np.array([filename for filename in self.filenames]) # TODO: This is possibly shit fix.\n",
    "\n",
    "        self.metric = faiss.METRIC_INNER_PRODUCT  # TODO: make it as parameter\n",
    "\n",
    "        faiss.normalize_L2(self.embs)\n",
    "\n",
    "        xb = self.embs\n",
    "        self.index = faiss.IndexFlat(xb.shape[1], self.metric)\n",
    "        self.index.add(xb)\n",
    "        print('Index intitialized successfully!')\n",
    "\n",
    "    def search(\n",
    "        self,\n",
    "        embs,\n",
    "        top_k = 10\n",
    "    ):\n",
    "        \"\"\"\n",
    "        embs: list of torch embs, with dimension D\n",
    "        top_k: how many to take\n",
    "        \"\"\"\n",
    "        embeddings = docs.embeddings\n",
    "\n",
    "        D, I = self.index.search(embeddings, k=len(self.embs))\n",
    "\n",
    "        for i, emb in enumerate(embs):\n",
    "            match_idxs = I[i, :]\n",
    "            ids = self.filenames[match_idxs]\n",
    "            unique, id_idxs = np.unique(ids, return_index=True)\n",
    "            k_id_idxs = sorted(id_idxs)[:top_k]\n",
    "            top_ids = ids[k_id_idxs]\n",
    "            top_scores = D[i, k_id_idxs]\n",
    "\n",
    "            matched_imgs = []\n",
    "            for _id, _score in zip(top_ids, top_scores):\n",
    "                match_doc = {\n",
    "                    \"id\":_id,\n",
    "                    \"full_path\": str(self.reference_dir/_id),\n",
    "                    \"score\": _score\n",
    "                }\n",
    "                matched_docs.append(match_doc)\n",
    "\n",
    "            return matched_imgs"
   ]
  },
  {
   "cell_type": "code",
   "execution_count": 51,
   "id": "2a6a7444-bdf7-4c72-a204-efe03e6f9e75",
   "metadata": {},
   "outputs": [
    {
     "name": "stdout",
     "output_type": "stream",
     "text": [
      "Index intitialized successfully!\n"
     ]
    }
   ],
   "source": [
    "indexer = FaissIndexer(DIR_IMGS, filenames, embs)"
   ]
  },
  {
   "cell_type": "code",
   "execution_count": null,
   "id": "a4f9c266-11ec-4f36-a17a-a6b005e941c9",
   "metadata": {},
   "outputs": [],
   "source": [
    "indexer.search()"
   ]
  }
 ],
 "metadata": {
  "kernelspec": {
   "display_name": "Python 3 (ipykernel)",
   "language": "python",
   "name": "python3"
  },
  "language_info": {
   "codemirror_mode": {
    "name": "ipython",
    "version": 3
   },
   "file_extension": ".py",
   "mimetype": "text/x-python",
   "name": "python",
   "nbconvert_exporter": "python",
   "pygments_lexer": "ipython3",
   "version": "3.8.12"
  }
 },
 "nbformat": 4,
 "nbformat_minor": 5
}
