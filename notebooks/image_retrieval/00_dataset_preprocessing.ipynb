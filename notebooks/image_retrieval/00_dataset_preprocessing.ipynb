{
 "cells": [
  {
   "cell_type": "markdown",
   "id": "244e8464-c0d2-4951-bf8f-e88ef49d370f",
   "metadata": {},
   "source": [
    "### Notebook description:\n",
    "\n",
    "This notebooks should: \n",
    "1. download the data from public gstorage\n",
    "1. unzip all videos\n",
    "1. cut each video on frames and put it in separate directory"
   ]
  },
  {
   "cell_type": "markdown",
   "id": "1190a927-cd28-4c89-8d78-c676eac98e5a",
   "metadata": {},
   "source": [
    "# Download dataset"
   ]
  },
  {
   "cell_type": "code",
   "execution_count": 1,
   "id": "d8570235-c105-4e23-9d39-6efa61e03a91",
   "metadata": {},
   "outputs": [],
   "source": [
    "# !pip install -U --no-cache-dir gdown --pre"
   ]
  },
  {
   "cell_type": "code",
   "execution_count": 2,
   "id": "1084b05a-4190-4cea-ba3d-67e0fcc8691a",
   "metadata": {
    "tags": []
   },
   "outputs": [],
   "source": [
    "# !pip install gsutil==5.17 -q"
   ]
  },
  {
   "cell_type": "code",
   "execution_count": 3,
   "id": "7b4cc59b-59dc-4ec4-ba0f-371d845aa13e",
   "metadata": {},
   "outputs": [],
   "source": [
    "!mkdir data"
   ]
  },
  {
   "cell_type": "code",
   "execution_count": 4,
   "id": "f55ecb30-7a15-47a4-9678-5e4a989f0251",
   "metadata": {
    "collapsed": true,
    "jupyter": {
     "outputs_hidden": true
    },
    "tags": []
   },
   "outputs": [
    {
     "name": "stdout",
     "output_type": "stream",
     "text": [
      "Copying gs://drone_vehicle_footage_dataset_public/MIT-LICENSE.txt...\n",
      "Copying gs://drone_vehicle_footage_dataset_public/video_105.zip...              \n",
      "Copying gs://drone_vehicle_footage_dataset_public/video_106.zip...              \n",
      "Copying gs://drone_vehicle_footage_dataset_public/video_121.zip...              \n",
      "/ [4 files][  3.2 MiB/  3.2 MiB]                                                \n",
      "==> NOTE: You are performing a sequence of gsutil operations that may\n",
      "run significantly faster if you instead use gsutil -m cp ... Please\n",
      "see the -m section under \"gsutil help options\" for further information\n",
      "about when gsutil -m can be advantageous.\n",
      "\n",
      "Copying gs://drone_vehicle_footage_dataset_public/video_123.zip...\n",
      "Copying gs://drone_vehicle_footage_dataset_public/video_124.zip...              \n",
      "Copying gs://drone_vehicle_footage_dataset_public/video_127.zip...              \n",
      "Copying gs://drone_vehicle_footage_dataset_public/video_130.zip...              \n",
      "Copying gs://drone_vehicle_footage_dataset_public/video_131.zip...              \n",
      "Copying gs://drone_vehicle_footage_dataset_public/video_133.zip...              \n",
      "Copying gs://drone_vehicle_footage_dataset_public/video_136.zip...              \n",
      "Copying gs://drone_vehicle_footage_dataset_public/video_137.zip...              \n",
      "Copying gs://drone_vehicle_footage_dataset_public/video_138.zip...              \n",
      "Copying gs://drone_vehicle_footage_dataset_public/video_139.zip...              \n",
      "Copying gs://drone_vehicle_footage_dataset_public/video_140.zip...              \n",
      "Copying gs://drone_vehicle_footage_dataset_public/video_142.zip...              \n",
      "Copying gs://drone_vehicle_footage_dataset_public/video_148.zip...              \n",
      "Copying gs://drone_vehicle_footage_dataset_public/video_150.zip...              \n",
      "Copying gs://drone_vehicle_footage_dataset_public/video_151.zip...              \n",
      "Copying gs://drone_vehicle_footage_dataset_public/video_152.zip...              \n",
      "Copying gs://drone_vehicle_footage_dataset_public/video_153.zip...              \n",
      "Copying gs://drone_vehicle_footage_dataset_public/video_154.zip...              \n",
      "Copying gs://drone_vehicle_footage_dataset_public/video_155.zip...              \n",
      "Copying gs://drone_vehicle_footage_dataset_public/video_156.zip...              \n",
      "Copying gs://drone_vehicle_footage_dataset_public/video_157.zip...              \n",
      "Copying gs://drone_vehicle_footage_dataset_public/video_158.zip...              \n",
      "Copying gs://drone_vehicle_footage_dataset_public/video_159.zip...              \n",
      "Copying gs://drone_vehicle_footage_dataset_public/video_160.zip...              \n",
      "Copying gs://drone_vehicle_footage_dataset_public/video_161.zip...              \n",
      "Copying gs://drone_vehicle_footage_dataset_public/video_162.zip...              \n",
      "Copying gs://drone_vehicle_footage_dataset_public/video_163.zip...              \n",
      "Copying gs://drone_vehicle_footage_dataset_public/video_164.zip...              \n",
      "Copying gs://drone_vehicle_footage_dataset_public/video_166.zip...              \n",
      "Copying gs://drone_vehicle_footage_dataset_public/video_176.zip...              \n",
      "Copying gs://drone_vehicle_footage_dataset_public/video_177.zip...              \n",
      "Copying gs://drone_vehicle_footage_dataset_public/video_179.zip...              \n",
      "Copying gs://drone_vehicle_footage_dataset_public/video_180.zip...              \n",
      "Copying gs://drone_vehicle_footage_dataset_public/video_182.zip...              \n",
      "Copying gs://drone_vehicle_footage_dataset_public/video_184.zip...              \n",
      "Copying gs://drone_vehicle_footage_dataset_public/video_186.zip...              \n",
      "Copying gs://drone_vehicle_footage_dataset_public/video_192.zip...              \n",
      "Copying gs://drone_vehicle_footage_dataset_public/video_193.zip...              \n",
      "Copying gs://drone_vehicle_footage_dataset_public/video_194.zip...              \n",
      "Copying gs://drone_vehicle_footage_dataset_public/video_200.zip...              \n",
      "Copying gs://drone_vehicle_footage_dataset_public/video_28.zip...               \n",
      "Copying gs://drone_vehicle_footage_dataset_public/video_30.zip...               \n",
      "Copying gs://drone_vehicle_footage_dataset_public/video_37.zip...               \n",
      "Copying gs://drone_vehicle_footage_dataset_public/video_39.zip...               \n",
      "Copying gs://drone_vehicle_footage_dataset_public/video_40.zip...               \n",
      "Copying gs://drone_vehicle_footage_dataset_public/video_41.zip...               \n",
      "Copying gs://drone_vehicle_footage_dataset_public/video_48.zip...               \n",
      "Copying gs://drone_vehicle_footage_dataset_public/video_57.zip...               \n",
      "Copying gs://drone_vehicle_footage_dataset_public/video_76.zip...               \n",
      "Copying gs://drone_vehicle_footage_dataset_public/video_77.zip...               \n",
      "Copying gs://drone_vehicle_footage_dataset_public/video_78.zip...               \n",
      "Copying gs://drone_vehicle_footage_dataset_public/video_79.zip...               \n",
      "Copying gs://drone_vehicle_footage_dataset_public/video_89.zip...               \n",
      "Copying gs://drone_vehicle_footage_dataset_public/video_90.zip...               \n",
      "Copying gs://drone_vehicle_footage_dataset_public/video_91.zip...               \n",
      "Copying gs://drone_vehicle_footage_dataset_public/video_92.zip...               \n",
      "Copying gs://drone_vehicle_footage_dataset_public/video_93.zip...               \n",
      "/ [61 files][246.6 MiB/246.6 MiB]    4.5 MiB/s                                  \n",
      "==> NOTE: You are performing a sequence of gsutil operations that may\n",
      "run significantly faster if you instead use gsutil -m cp ... Please\n",
      "see the -m section under \"gsutil help options\" for further information\n",
      "about when gsutil -m can be advantageous.\n",
      "\n",
      "\n",
      "Operation completed over 61 objects/246.6 MiB.                                   \n"
     ]
    }
   ],
   "source": [
    "!gsutil cp -r gs://drone_vehicle_footage_dataset_public data/"
   ]
  },
  {
   "cell_type": "markdown",
   "id": "41bec39d-3ede-4618-a1bc-09c87239fe80",
   "metadata": {},
   "source": [
    "# Unzip all videos"
   ]
  },
  {
   "cell_type": "code",
   "execution_count": 5,
   "id": "dfde8551-f114-4686-a273-60da17ac92db",
   "metadata": {},
   "outputs": [],
   "source": [
    "from pathlib import Path\n",
    "Path.ls = lambda x: list(x.iterdir())\n",
    "\n",
    "from tqdm import tqdm\n",
    "import shutil"
   ]
  },
  {
   "cell_type": "code",
   "execution_count": 6,
   "id": "b7102d03-1277-4ddb-86a0-f76a9c0d048d",
   "metadata": {},
   "outputs": [],
   "source": [
    "DATA_DIR = Path('data')\n",
    "\n",
    "DIR_WITH_ZIP_VIDS = DATA_DIR / 'drone_vehicle_footage_dataset_public'\n",
    "DIR_VIDS = DATA_DIR / 'drone_vids'\n",
    "DIR_IMGS = DATA_DIR / 'drone_imgs'\n",
    "\n",
    "DIR_VIDS.mkdir(exist_ok=True, parents=True)\n",
    "DIR_IMGS.mkdir(exist_ok=True, parents=True)"
   ]
  },
  {
   "cell_type": "code",
   "execution_count": 7,
   "id": "e01c3111-9cc2-45cf-992b-67dac3c59f27",
   "metadata": {},
   "outputs": [
    {
     "data": {
      "text/plain": [
       "[PosixPath('data/drone_vehicle_footage_dataset_public/video_142.zip'),\n",
       " PosixPath('data/drone_vehicle_footage_dataset_public/video_192.zip'),\n",
       " PosixPath('data/drone_vehicle_footage_dataset_public/video_41.zip'),\n",
       " PosixPath('data/drone_vehicle_footage_dataset_public/video_92.zip'),\n",
       " PosixPath('data/drone_vehicle_footage_dataset_public/video_137.zip')]"
      ]
     },
     "execution_count": 7,
     "metadata": {},
     "output_type": "execute_result"
    }
   ],
   "source": [
    "DIR_WITH_ZIP_VIDS.ls()[:5]"
   ]
  },
  {
   "cell_type": "code",
   "execution_count": 8,
   "id": "b2699892-5261-47d5-b3d0-3fe2e7a9f961",
   "metadata": {},
   "outputs": [
    {
     "name": "stderr",
     "output_type": "stream",
     "text": [
      "100%|███████████████████████████████████████████████████████████████████████████████████████████████████| 61/61 [00:59<00:00,  1.02it/s]\n"
     ]
    }
   ],
   "source": [
    "for file in tqdm(DIR_WITH_ZIP_VIDS.ls()):\n",
    "    if file.suffix == '.zip':\n",
    "        !unzip -o -q {file} -d {DIR_VIDS} "
   ]
  },
  {
   "cell_type": "code",
   "execution_count": 9,
   "id": "bbd157c3-8097-49c2-b321-cafa2950876b",
   "metadata": {},
   "outputs": [],
   "source": [
    "(DIR_VIDS / 'annotations.json').unlink()\n",
    "(DIR_VIDS / 'task.json').unlink()"
   ]
  },
  {
   "cell_type": "code",
   "execution_count": 10,
   "id": "3cd753c3-4a9c-4ed5-9494-58ebdec81e55",
   "metadata": {},
   "outputs": [],
   "source": [
    "for file in (DIR_VIDS / 'data').ls():\n",
    "    shutil.move(file, DIR_VIDS / file.name)\n",
    "    \n",
    "!rm -rf {DIR_VIDS / 'data'}"
   ]
  },
  {
   "cell_type": "code",
   "execution_count": 11,
   "id": "aab2218c-a74f-4c8e-869e-778cfe1521ba",
   "metadata": {},
   "outputs": [
    {
     "data": {
      "text/plain": [
       "58"
      ]
     },
     "execution_count": 11,
     "metadata": {},
     "output_type": "execute_result"
    }
   ],
   "source": [
    "len(DIR_VIDS.ls())"
   ]
  },
  {
   "cell_type": "markdown",
   "id": "6e2b7ee4-3ca3-4d8e-97be-c233fad74a80",
   "metadata": {},
   "source": [
    "# Cut each video on frames and put it in separate directory"
   ]
  },
  {
   "cell_type": "code",
   "execution_count": 13,
   "id": "28115ad0-b350-4502-a514-0ff2af35bd45",
   "metadata": {
    "collapsed": true,
    "jupyter": {
     "outputs_hidden": true
    },
    "tags": []
   },
   "outputs": [
    {
     "name": "stdout",
     "output_type": "stream",
     "text": [
      "Collecting opencv-python==4.6.0.66\n",
      "  Downloading opencv_python-4.6.0.66-cp36-abi3-manylinux_2_17_x86_64.manylinux2014_x86_64.whl (60.9 MB)\n",
      "\u001b[K     |████████████████████████████████| 60.9 MB 264 kB/s eta 0:00:01\n",
      "\u001b[?25hRequirement already satisfied: numpy>=1.17.3 in /opt/conda/lib/python3.8/site-packages (from opencv-python==4.6.0.66) (1.22.4)\n",
      "Installing collected packages: opencv-python\n",
      "Successfully installed opencv-python-4.6.0.66\n",
      "\u001b[33mWARNING: Running pip as the 'root' user can result in broken permissions and conflicting behaviour with the system package manager. It is recommended to use a virtual environment instead: https://pip.pypa.io/warnings/venv\u001b[0m\n"
     ]
    }
   ],
   "source": [
    "# !pip install opencv-python==4.6.0.66"
   ]
  },
  {
   "cell_type": "code",
   "execution_count": 50,
   "id": "8c5a3f9c-9545-4543-a492-7eefdbffc5bd",
   "metadata": {},
   "outputs": [],
   "source": [
    "import cv2\n",
    "import numpy as np\n",
    "import torch\n",
    "import torchvision.transforms as T\n",
    "import uuid\n",
    "from torchvision.utils import save_image"
   ]
  },
  {
   "cell_type": "code",
   "execution_count": 54,
   "id": "010c10f7-883b-4993-be06-7a4a1a164097",
   "metadata": {},
   "outputs": [],
   "source": [
    "def read_video(file, frame_read_freq=1, n_frames=None, verbose=True):\n",
    "    file = str(file)\n",
    "    capture = cv2.VideoCapture(file)\n",
    "    fps = capture.get(cv2.CAP_PROP_FPS)\n",
    "    if n_frames is None:\n",
    "        n_frames = capture.get(cv2.CAP_PROP_FRAME_COUNT)\n",
    "\n",
    "    frames = []\n",
    "    \n",
    "    pb = np.arange(n_frames)\n",
    "    if verbose:\n",
    "        pb = tqdm(pb)\n",
    "\n",
    "    for i in pb:\n",
    "        success, image_cv = capture.read()\n",
    "\n",
    "        if not success:\n",
    "            break\n",
    "            \n",
    "        if i % frame_read_freq == 0:\n",
    "            frame = cv2.cvtColor(image_cv, cv2.COLOR_BGR2RGB)\n",
    "            frame = torch.tensor(frame/255, dtype=torch.float32)\n",
    "            frames.append(frame.permute(2,0,1)[None])\n",
    "\n",
    "    return frames, fps, n_frames\n",
    "\n",
    "def torch_scale_resize(img, scale_factor):\n",
    "    width = int(img.shape[3] * scale_factor)\n",
    "    height = int(img.shape[2] * scale_factor)\n",
    "    dim = (height, width)\n",
    "    \n",
    "    resize_f = T.Resize(dim)\n",
    "\n",
    "    # resize image\n",
    "    resized = resize_f(img)\n",
    "    return resized\n",
    "\n",
    "def torch_resize(img, size):\n",
    "    \"\"\"\n",
    "    img: torch.tensor B, C, H, W\n",
    "    size: tuple H, W\n",
    "    \"\"\"\n",
    "    resize_f = T.Resize(size)\n",
    "    return resize_f(img)"
   ]
  },
  {
   "cell_type": "code",
   "execution_count": 55,
   "id": "41f815d7-e853-47d3-8d81-b110785b41d4",
   "metadata": {},
   "outputs": [],
   "source": [
    "!rm -rf {DIR_IMGS}\n",
    "DIR_IMGS.mkdir(exist_ok=True, parents=True)"
   ]
  },
  {
   "cell_type": "code",
   "execution_count": 57,
   "id": "ab6f8305-e253-475e-9224-1f6064cd56f7",
   "metadata": {},
   "outputs": [
    {
     "name": "stderr",
     "output_type": "stream",
     "text": [
      "100%|███████████████████████████████████████████████████████████████████████████████████████████████████| 58/58 [04:35<00:00,  4.75s/it]\n"
     ]
    }
   ],
   "source": [
    "for vid_file in tqdm(DIR_VIDS.ls()):\n",
    "    if file.suffix != '.mp4':\n",
    "        continue\n",
    "        \n",
    "    frames, fps, total_vid_n_frames = read_video(vid_file, frame_read_freq=10, verbose=False)\n",
    "    \n",
    "    for frame in frames:\n",
    "        resized_frame = torch_resize(frame, (224,224)) # 224 is a default clip input image size\n",
    "        save_image(resized_frame, DIR_IMGS / f'{str(uuid.uuid4())}.png')"
   ]
  },
  {
   "cell_type": "code",
   "execution_count": 59,
   "id": "592c4d6b-4630-41cc-aef0-7c9aaf521b3f",
   "metadata": {},
   "outputs": [
    {
     "data": {
      "text/plain": [
       "8201"
      ]
     },
     "execution_count": 59,
     "metadata": {},
     "output_type": "execute_result"
    }
   ],
   "source": [
    "len(DIR_IMGS.ls())"
   ]
  }
 ],
 "metadata": {
  "kernelspec": {
   "display_name": "Python 3 (ipykernel)",
   "language": "python",
   "name": "python3"
  },
  "language_info": {
   "codemirror_mode": {
    "name": "ipython",
    "version": 3
   },
   "file_extension": ".py",
   "mimetype": "text/x-python",
   "name": "python",
   "nbconvert_exporter": "python",
   "pygments_lexer": "ipython3",
   "version": "3.8.12"
  }
 },
 "nbformat": 4,
 "nbformat_minor": 5
}
