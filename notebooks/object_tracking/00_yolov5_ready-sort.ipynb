{
 "cells": [
  {
   "cell_type": "markdown",
   "id": "bc5fe776-f7e6-48ab-a878-af847627d7b5",
   "metadata": {},
   "source": [
    "Video was given from https://motchallenge.net/vis/MOT16-04"
   ]
  },
  {
   "cell_type": "code",
   "execution_count": 30,
   "id": "4a9493f2-6b26-4161-b921-a82670144e82",
   "metadata": {},
   "outputs": [],
   "source": [
    "# !pip install distinctipy==1.2.2 filterpy==1.4.5 lap==0.4.0 -q"
   ]
  },
  {
   "cell_type": "code",
   "execution_count": 1,
   "id": "745a0206-1faf-4b40-8934-6a4d8eee0be4",
   "metadata": {},
   "outputs": [
    {
     "data": {
      "text/plain": [
       "<matplotlib.image.AxesImage at 0x7f8575b6f100>"
      ]
     },
     "execution_count": 1,
     "metadata": {},
     "output_type": "execute_result"
    },
    {
     "data": {
      "image/png": "[encoded data removed]",
      "text/plain": [
       "<Figure size 432x288 with 1 Axes>"
      ]
     },
     "metadata": {
      "needs_background": "light"
     },
     "output_type": "display_data"
    }
   ],
   "source": [
    "import torch\n",
    "import cv2\n",
    "import numpy\n",
    "import numpy as np\n",
    "from tqdm import tqdm\n",
    "import matplotlib.pyplot as plt\n",
    "from sort import Sort\n",
    "import distinctipy\n",
    "\n",
    "sample_img = np.random.rand(3,3,3)\n",
    "plt.imshow(sample_img)"
   ]
  },
  {
   "cell_type": "code",
   "execution_count": 2,
   "id": "7bc5f5c7-9591-4d28-b7e1-4e12be83c46e",
   "metadata": {},
   "outputs": [],
   "source": [
    "device = 'cuda:0'"
   ]
  },
  {
   "cell_type": "code",
   "execution_count": 3,
   "id": "9f874332-432f-41ec-86ae-d4c23d416c65",
   "metadata": {},
   "outputs": [
    {
     "name": "stderr",
     "output_type": "stream",
     "text": [
      "Using cache found in /root/.cache/torch/hub/ultralytics_yolov5_master\n",
      "YOLOv5 🚀 2022-12-22 Python-3.8.12 torch-1.11.0 CUDA:0 (Tesla T4, 15110MiB)\n",
      "\n",
      "Fusing layers... \n",
      "YOLOv5s summary: 213 layers, 7225885 parameters, 0 gradients\n",
      "Adding AutoShape... \n"
     ]
    },
    {
     "data": {
      "text/plain": [
       "1"
      ]
     },
     "execution_count": 3,
     "metadata": {},
     "output_type": "execute_result"
    }
   ],
   "source": [
    "model = torch.hub.load('ultralytics/yolov5', 'yolov5s', pretrained=True).to(device)\n",
    "model.float()\n",
    "model.eval()\n",
    "1"
   ]
  },
  {
   "cell_type": "code",
   "execution_count": 5,
   "id": "a938651b-dc1a-4ee2-bcdd-0a966b31f465",
   "metadata": {},
   "outputs": [],
   "source": [
    "from pathlib import Path\n",
    "\n",
    "data_dir = Path('data')\n",
    "\n",
    "reference_vid = data_dir / 'ref_vid.mp4'\n",
    "\n",
    "save_to = data_dir / 'results' / reference_vid.stem\n",
    "save_to.mkdir(exist_ok=True, parents=True)"
   ]
  },
  {
   "cell_type": "code",
   "execution_count": 6,
   "id": "83f057ab-8061-4c51-a8e4-c9ea065a66e0",
   "metadata": {},
   "outputs": [],
   "source": [
    "mot_tracker = Sort()"
   ]
  },
  {
   "cell_type": "code",
   "execution_count": 94,
   "id": "f2ef142e-bd0c-4ca6-b945-6ced898d3f24",
   "metadata": {},
   "outputs": [],
   "source": [
    "! rm -rf data/results/ref_vid/*"
   ]
  },
  {
   "cell_type": "code",
   "execution_count": 8,
   "id": "5bca1e58-7abb-44c1-82df-f32c9b961d4e",
   "metadata": {},
   "outputs": [
    {
     "name": "stderr",
     "output_type": "stream",
     "text": [
      "  1%|█                                                                                                | 11/1050 [00:00<00:31, 33.21it/s]\n"
     ]
    }
   ],
   "source": [
    "file = str(reference_vid)\n",
    "verbose = True\n",
    "\n",
    "capture = cv2.VideoCapture(file)\n",
    "fps = capture.get(cv2.CAP_PROP_FPS)\n",
    "n_frames = capture.get(cv2.CAP_PROP_FRAME_COUNT)\n",
    "\n",
    "def color_t(idx):\n",
    "    state = np.random.get_state()\n",
    "    numpy.random.seed(seed=idx)\n",
    "    val = (np.random.randint(256), np.random.randint(256), np.random.randint(256))\n",
    "    np.random.set_state(state)\n",
    "    return val\n",
    "\n",
    "bbs_ids_frame_count = {}\n",
    "\n",
    "frames = []\n",
    "\n",
    "\n",
    "pb = np.arange(n_frames)\n",
    "if verbose:\n",
    "    pb = tqdm(pb)\n",
    "\n",
    "for i in pb:\n",
    "    success, image_cv = capture.read()\n",
    "    \n",
    "    if not success:\n",
    "        break\n",
    "\n",
    "    preds = model(image_cv)\n",
    "    detections = preds.pred[0].cpu().numpy()\n",
    "    track_bbs_ids = mot_tracker.update(detections).tolist()\n",
    "    \n",
    "    for j in range(len(track_bbs_ids)):\n",
    "        coords = track_bbs_ids[j]\n",
    "        x1, y1, x2, y2 = int(coords[0]), int(coords[1]), int(coords[2]), int(coords[3])\n",
    "        \n",
    "        name_idx = int(coords[4])\n",
    "        \n",
    "        if name_idx in bbs_ids_frame_count.keys():\n",
    "            bbs_ids_frame_count[name_idx] += 1\n",
    "        else:\n",
    "            bbs_ids_frame_count[name_idx] = 1\n",
    "            \n",
    "        sec_per_id = bbs_ids_frame_count[name_idx] / fps\n",
    "            \n",
    "        name = f\"ID:{name_idx}|T:{sec_per_id:.2f}s\"\n",
    "        color = color_t(name_idx)\n",
    "        \n",
    "        cv2.rectangle(image_cv, (x1, y1), (x2, y2), color, 2)\n",
    "        cv2.putText(image_cv, name, (x1, y1-10), cv2.FONT_HERSHEY_SIMPLEX, 0.9, color, 2)\n",
    "        cv2.imwrite(str(save_to / f\"{int(i)}.png\"), image_cv)\n",
    "        # plt.imshow(image_cv)\n",
    "        # plt.show()\n",
    "        \n",
    "    # if i % frame_read_freq == 0:\n",
    "    #     frame = cv2.cvtColor(image_cv, cv2.COLOR_BGR2RGB)\n",
    "    #     frame = torch.tensor(frame/255, dtype=torch.float32)\n",
    "    #     frames.append(frame.permute(2,0,1)[None])"
   ]
  },
  {
   "cell_type": "markdown",
   "id": "f42e3ed8-fc29-4b17-95dc-8a666dcdc4d3",
   "metadata": {},
   "source": [
    "# Save video"
   ]
  },
  {
   "cell_type": "code",
   "execution_count": 1,
   "id": "438ab9e0-4783-44c1-8c3e-1769ef4689df",
   "metadata": {
    "collapsed": true,
    "jupyter": {
     "outputs_hidden": true
    },
    "tags": []
   },
   "outputs": [
    {
     "name": "stdout",
     "output_type": "stream",
     "text": [
      "Collecting ffmpeg\n",
      "  Downloading ffmpeg-1.4.tar.gz (5.1 kB)\n",
      "Building wheels for collected packages: ffmpeg\n",
      "  Building wheel for ffmpeg (setup.py) ... \u001b[?25ldone\n",
      "\u001b[?25h  Created wheel for ffmpeg: filename=ffmpeg-1.4-py3-none-any.whl size=6084 sha256=57595be41ab9ccad664819feec455f44f7fb8c656bc08b27190be3fa0fc843d0\n",
      "  Stored in directory: /root/.cache/pip/wheels/30/33/46/5ab7eca55b9490dddbf3441c68a29535996270ef1ce8b9b6d7\n",
      "Successfully built ffmpeg\n",
      "Installing collected packages: ffmpeg\n",
      "Successfully installed ffmpeg-1.4\n",
      "\u001b[33mWARNING: Running pip as the 'root' user can result in broken permissions and conflicting behaviour with the system package manager. It is recommended to use a virtual environment instead: https://pip.pypa.io/warnings/venv\u001b[0m\n"
     ]
    }
   ],
   "source": [
    "# !pip install moviepy --upgrade\n",
    "!pip install ffmpeg --upgrade"
   ]
  },
  {
   "cell_type": "code",
   "execution_count": 24,
   "id": "550bb5c7-aa16-4a90-8e7e-181f75bed231",
   "metadata": {},
   "outputs": [
    {
     "name": "stderr",
     "output_type": "stream",
     "text": [
      "100%|███████████████████████████████████████████████████████████████████████████████████████████████| 1050/1050 [00:17<00:00, 61.73it/s]\n"
     ]
    }
   ],
   "source": [
    "import cv2\n",
    "import os\n",
    "\n",
    "image_folder = str(save_to)\n",
    "video_name = 'video.mp4'\n",
    "fps = 30\n",
    "\n",
    "images = [img for img in os.listdir(image_folder) if img.endswith(\".png\")]\n",
    "sorted_img_ids = sorted([int(i.split('.')[0]) for i in images])\n",
    "images = [f\"{i}.png\" for i in sorted_img_ids]\n",
    "\n",
    "frame = cv2.imread(os.path.join(image_folder, images[0]))\n",
    "height, width, layers = frame.shape\n",
    "\n",
    "fourcc = cv2.VideoWriter_fourcc('m', 'p', '4', 'v')\n",
    "video = cv2.VideoWriter(video_name, fourcc, fps, (width,height))\n",
    "\n",
    "for image in tqdm(images):\n",
    "    video.write(cv2.imread(os.path.join(image_folder, image)))\n",
    "\n",
    "video.release()"
   ]
  },
  {
   "cell_type": "code",
   "execution_count": null,
   "id": "d7dd6448-b5c5-4a72-a502-96e0ebf05367",
   "metadata": {},
   "outputs": [],
   "source": []
  },
  {
   "cell_type": "code",
   "execution_count": null,
   "id": "2f54b019-3003-4624-8359-364d9d076dac",
   "metadata": {},
   "outputs": [],
   "source": []
  },
  {
   "cell_type": "code",
   "execution_count": null,
   "id": "797dab90-3c2a-4933-b5f3-cd3c628bad7e",
   "metadata": {},
   "outputs": [],
   "source": []
  },
  {
   "cell_type": "code",
   "execution_count": null,
   "id": "442e7d51-b007-4ff6-9874-382c98d7dbfc",
   "metadata": {},
   "outputs": [],
   "source": []
  },
  {
   "cell_type": "code",
   "execution_count": null,
   "id": "b89f5661-b15a-432b-b9c2-7b4b3f18eda8",
   "metadata": {},
   "outputs": [],
   "source": []
  }
 ],
 "metadata": {
  "kernelspec": {
   "display_name": "Python 3 (ipykernel)",
   "language": "python",
   "name": "python3"
  },
  "language_info": {
   "codemirror_mode": {
    "name": "ipython",
    "version": 3
   },
   "file_extension": ".py",
   "mimetype": "text/x-python",
   "name": "python",
   "nbconvert_exporter": "python",
   "pygments_lexer": "ipython3",
   "version": "3.8.12"
  }
 },
 "nbformat": 4,
 "nbformat_minor": 5
}
