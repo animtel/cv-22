{
 "cells": [
  {
   "cell_type": "code",
   "execution_count": 25,
   "id": "4e5e75bc-1e36-458f-8864-aa6d95aec2d5",
   "metadata": {},
   "outputs": [],
   "source": [
    "from pathlib import Path\n",
    "Path.ls = lambda x, extention='': list(x.glob(f'*{extention}'))\n",
    "\n",
    "from PIL import Image\n",
    "import matplotlib.pyplot as plt\n"
   ]
  },
  {
   "cell_type": "code",
   "execution_count": 26,
   "id": "a7d079b3-650f-412f-8e0c-05d273c46b3f",
   "metadata": {},
   "outputs": [],
   "source": [
    "data_dir = Path('/data/drone_vehicle_footage_dataset_public')"
   ]
  },
  {
   "cell_type": "code",
   "execution_count": 28,
   "id": "3bcfba09-4517-4342-8fd0-01a26a22bb74",
   "metadata": {},
   "outputs": [],
   "source": [
    "zip_videos = data_dir.ls('.zip')"
   ]
  },
  {
   "cell_type": "code",
   "execution_count": 31,
   "id": "80f952f4-4033-4c8d-a163-57c753bef915",
   "metadata": {},
   "outputs": [
    {
     "name": "stdout",
     "output_type": "stream",
     "text": [
      "Archive:  /data/drone_vehicle_footage_dataset_public/video_137.zip\n",
      " extracting: ./data/OMupMO0wU397EPh0.mp4  \n",
      " extracting: ./task.json             \n",
      " extracting: ./annotations.json      \n"
     ]
    }
   ],
   "source": [
    "!unzip {str(zip_videos[0])} -d ."
   ]
  },
  {
   "cell_type": "code",
   "execution_count": null,
   "id": "59c65b15-6652-4896-9911-80877721a5a7",
   "metadata": {},
   "outputs": [],
   "source": []
  }
 ],
 "metadata": {
  "kernelspec": {
   "display_name": "Python 3 (ipykernel)",
   "language": "python",
   "name": "python3"
  },
  "language_info": {
   "codemirror_mode": {
    "name": "ipython",
    "version": 3
   },
   "file_extension": ".py",
   "mimetype": "text/x-python",
   "name": "python",
   "nbconvert_exporter": "python",
   "pygments_lexer": "ipython3",
   "version": "3.8.12"
  }
 },
 "nbformat": 4,
 "nbformat_minor": 5
}
