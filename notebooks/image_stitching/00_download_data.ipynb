{
 "cells": [
  {
   "cell_type": "code",
   "execution_count": 3,
   "id": "7d6f5da0-0284-4f8d-990b-7b485aa53b0f",
   "metadata": {},
   "outputs": [
    {
     "name": "stdout",
     "output_type": "stream",
     "text": [
      "Downloading...\n",
      "From: https://drive.google.com/uc?id=1JlSHdy-miHSUSIb408w_wfsYtd7nUGkO\n",
      "To: /app/notebooks/image_stitching/drone_vehicle_footage_dataset_public.zip\n",
      "100%|████████████████████████████████████████| 259M/259M [00:22<00:00, 11.5MB/s]\n"
     ]
    }
   ],
   "source": [
    "!gdown 1JlSHdy-miHSUSIb408w_wfsYtd7nUGkO"
   ]
  },
  {
   "cell_type": "code",
   "execution_count": 5,
   "id": "42265791-369d-4d14-b535-81701228c238",
   "metadata": {},
   "outputs": [],
   "source": [
    "!mkdir /data\n",
    "!apt update\n",
    "!apt install unzip\n",
    "!unzip drone_vehicle_footage_dataset_public.zip -d /data"
   ]
  },
  {
   "cell_type": "code",
   "execution_count": null,
   "id": "acbc8add-7b1f-410e-80b6-7ca70707a23d",
   "metadata": {},
   "outputs": [],
   "source": []
  }
 ],
 "metadata": {
  "kernelspec": {
   "display_name": "Python 3 (ipykernel)",
   "language": "python",
   "name": "python3"
  },
  "language_info": {
   "codemirror_mode": {
    "name": "ipython",
    "version": 3
   },
   "file_extension": ".py",
   "mimetype": "text/x-python",
   "name": "python",
   "nbconvert_exporter": "python",
   "pygments_lexer": "ipython3",
   "version": "3.8.12"
  }
 },
 "nbformat": 4,
 "nbformat_minor": 5
}
