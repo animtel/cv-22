{
 "cells": [
  {
   "cell_type": "markdown",
   "id": "f326ee2d-2d91-4035-bc39-36d9a69ef142",
   "metadata": {},
   "source": [
    "TODO:\n",
    "\n",
    "1. whatch the lecture: https://youtu.be/Z_HwkG90Yvw\n",
    "1. check the slides: https://www.cse.psu.edu/~rtc12/CSE486/lecture06.pdf\n",
    "1. check the slides: https://drive.google.com/file/d/1wlTt949oOvvP2x5URxk6I9AlUd2mlTLe/view"
   ]
  },
  {
   "cell_type": "code",
   "execution_count": null,
   "id": "35fd59d6-40b5-4455-80e3-a971e931bd7d",
   "metadata": {},
   "outputs": [],
   "source": []
  }
 ],
 "metadata": {
  "kernelspec": {
   "display_name": "Python 3 (ipykernel)",
   "language": "python",
   "name": "python3"
  },
  "language_info": {
   "codemirror_mode": {
    "name": "ipython",
    "version": 3
   },
   "file_extension": ".py",
   "mimetype": "text/x-python",
   "name": "python",
   "nbconvert_exporter": "python",
   "pygments_lexer": "ipython3",
   "version": "3.8.12"
  }
 },
 "nbformat": 4,
 "nbformat_minor": 5
}
